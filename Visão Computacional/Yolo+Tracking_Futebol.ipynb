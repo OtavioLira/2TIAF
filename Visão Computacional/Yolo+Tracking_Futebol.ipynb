{
  "nbformat": 4,
  "nbformat_minor": 0,
  "metadata": {
    "colab": {
      "provenance": [],
      "gpuType": "T4"
    },
    "kernelspec": {
      "name": "python3",
      "display_name": "Python 3"
    },
    "language_info": {
      "name": "python"
    },
    "accelerator": "GPU",
    "widgets": {
      "application/vnd.jupyter.widget-state+json": {
        "987ddbea9b0e4e8ab9b508d45f5c51e9": {
          "model_module": "@jupyter-widgets/controls",
          "model_name": "HBoxModel",
          "model_module_version": "1.5.0",
          "state": {
            "_dom_classes": [],
            "_model_module": "@jupyter-widgets/controls",
            "_model_module_version": "1.5.0",
            "_model_name": "HBoxModel",
            "_view_count": null,
            "_view_module": "@jupyter-widgets/controls",
            "_view_module_version": "1.5.0",
            "_view_name": "HBoxView",
            "box_style": "",
            "children": [
              "IPY_MODEL_1653771081124443a22ea6ebda7f1f73",
              "IPY_MODEL_5b5c2d32dfb4494fae1077cbe0f4a588",
              "IPY_MODEL_0b771d9225aa4bb09ddda31b7e833bb0"
            ],
            "layout": "IPY_MODEL_a565dfda989543ef845f384adb372bb1"
          }
        },
        "1653771081124443a22ea6ebda7f1f73": {
          "model_module": "@jupyter-widgets/controls",
          "model_name": "HTMLModel",
          "model_module_version": "1.5.0",
          "state": {
            "_dom_classes": [],
            "_model_module": "@jupyter-widgets/controls",
            "_model_module_version": "1.5.0",
            "_model_name": "HTMLModel",
            "_view_count": null,
            "_view_module": "@jupyter-widgets/controls",
            "_view_module_version": "1.5.0",
            "_view_name": "HTMLView",
            "description": "",
            "description_tooltip": null,
            "layout": "IPY_MODEL_561692017a2e45ae8d3e98c239a39702",
            "placeholder": "​",
            "style": "IPY_MODEL_5efa3cc78b234ecd9322c1c8f3cf2e39",
            "value": "100%"
          }
        },
        "5b5c2d32dfb4494fae1077cbe0f4a588": {
          "model_module": "@jupyter-widgets/controls",
          "model_name": "FloatProgressModel",
          "model_module_version": "1.5.0",
          "state": {
            "_dom_classes": [],
            "_model_module": "@jupyter-widgets/controls",
            "_model_module_version": "1.5.0",
            "_model_name": "FloatProgressModel",
            "_view_count": null,
            "_view_module": "@jupyter-widgets/controls",
            "_view_module_version": "1.5.0",
            "_view_name": "ProgressView",
            "bar_style": "success",
            "description": "",
            "description_tooltip": null,
            "layout": "IPY_MODEL_667aaa5fe3834fc290080fa38f0a7d77",
            "max": 750,
            "min": 0,
            "orientation": "horizontal",
            "style": "IPY_MODEL_369f036762d3495e8e60e6b949934bc9",
            "value": 750
          }
        },
        "0b771d9225aa4bb09ddda31b7e833bb0": {
          "model_module": "@jupyter-widgets/controls",
          "model_name": "HTMLModel",
          "model_module_version": "1.5.0",
          "state": {
            "_dom_classes": [],
            "_model_module": "@jupyter-widgets/controls",
            "_model_module_version": "1.5.0",
            "_model_name": "HTMLModel",
            "_view_count": null,
            "_view_module": "@jupyter-widgets/controls",
            "_view_module_version": "1.5.0",
            "_view_name": "HTMLView",
            "description": "",
            "description_tooltip": null,
            "layout": "IPY_MODEL_629a94a302324a26b587285ea5a774f2",
            "placeholder": "​",
            "style": "IPY_MODEL_9cc5c45f05734fe3bd47478d5112e9be",
            "value": " 750/750 [02:05&lt;00:00,  6.21it/s]"
          }
        },
        "a565dfda989543ef845f384adb372bb1": {
          "model_module": "@jupyter-widgets/base",
          "model_name": "LayoutModel",
          "model_module_version": "1.2.0",
          "state": {
            "_model_module": "@jupyter-widgets/base",
            "_model_module_version": "1.2.0",
            "_model_name": "LayoutModel",
            "_view_count": null,
            "_view_module": "@jupyter-widgets/base",
            "_view_module_version": "1.2.0",
            "_view_name": "LayoutView",
            "align_content": null,
            "align_items": null,
            "align_self": null,
            "border": null,
            "bottom": null,
            "display": null,
            "flex": null,
            "flex_flow": null,
            "grid_area": null,
            "grid_auto_columns": null,
            "grid_auto_flow": null,
            "grid_auto_rows": null,
            "grid_column": null,
            "grid_gap": null,
            "grid_row": null,
            "grid_template_areas": null,
            "grid_template_columns": null,
            "grid_template_rows": null,
            "height": null,
            "justify_content": null,
            "justify_items": null,
            "left": null,
            "margin": null,
            "max_height": null,
            "max_width": null,
            "min_height": null,
            "min_width": null,
            "object_fit": null,
            "object_position": null,
            "order": null,
            "overflow": null,
            "overflow_x": null,
            "overflow_y": null,
            "padding": null,
            "right": null,
            "top": null,
            "visibility": null,
            "width": null
          }
        },
        "561692017a2e45ae8d3e98c239a39702": {
          "model_module": "@jupyter-widgets/base",
          "model_name": "LayoutModel",
          "model_module_version": "1.2.0",
          "state": {
            "_model_module": "@jupyter-widgets/base",
            "_model_module_version": "1.2.0",
            "_model_name": "LayoutModel",
            "_view_count": null,
            "_view_module": "@jupyter-widgets/base",
            "_view_module_version": "1.2.0",
            "_view_name": "LayoutView",
            "align_content": null,
            "align_items": null,
            "align_self": null,
            "border": null,
            "bottom": null,
            "display": null,
            "flex": null,
            "flex_flow": null,
            "grid_area": null,
            "grid_auto_columns": null,
            "grid_auto_flow": null,
            "grid_auto_rows": null,
            "grid_column": null,
            "grid_gap": null,
            "grid_row": null,
            "grid_template_areas": null,
            "grid_template_columns": null,
            "grid_template_rows": null,
            "height": null,
            "justify_content": null,
            "justify_items": null,
            "left": null,
            "margin": null,
            "max_height": null,
            "max_width": null,
            "min_height": null,
            "min_width": null,
            "object_fit": null,
            "object_position": null,
            "order": null,
            "overflow": null,
            "overflow_x": null,
            "overflow_y": null,
            "padding": null,
            "right": null,
            "top": null,
            "visibility": null,
            "width": null
          }
        },
        "5efa3cc78b234ecd9322c1c8f3cf2e39": {
          "model_module": "@jupyter-widgets/controls",
          "model_name": "DescriptionStyleModel",
          "model_module_version": "1.5.0",
          "state": {
            "_model_module": "@jupyter-widgets/controls",
            "_model_module_version": "1.5.0",
            "_model_name": "DescriptionStyleModel",
            "_view_count": null,
            "_view_module": "@jupyter-widgets/base",
            "_view_module_version": "1.2.0",
            "_view_name": "StyleView",
            "description_width": ""
          }
        },
        "667aaa5fe3834fc290080fa38f0a7d77": {
          "model_module": "@jupyter-widgets/base",
          "model_name": "LayoutModel",
          "model_module_version": "1.2.0",
          "state": {
            "_model_module": "@jupyter-widgets/base",
            "_model_module_version": "1.2.0",
            "_model_name": "LayoutModel",
            "_view_count": null,
            "_view_module": "@jupyter-widgets/base",
            "_view_module_version": "1.2.0",
            "_view_name": "LayoutView",
            "align_content": null,
            "align_items": null,
            "align_self": null,
            "border": null,
            "bottom": null,
            "display": null,
            "flex": null,
            "flex_flow": null,
            "grid_area": null,
            "grid_auto_columns": null,
            "grid_auto_flow": null,
            "grid_auto_rows": null,
            "grid_column": null,
            "grid_gap": null,
            "grid_row": null,
            "grid_template_areas": null,
            "grid_template_columns": null,
            "grid_template_rows": null,
            "height": null,
            "justify_content": null,
            "justify_items": null,
            "left": null,
            "margin": null,
            "max_height": null,
            "max_width": null,
            "min_height": null,
            "min_width": null,
            "object_fit": null,
            "object_position": null,
            "order": null,
            "overflow": null,
            "overflow_x": null,
            "overflow_y": null,
            "padding": null,
            "right": null,
            "top": null,
            "visibility": null,
            "width": null
          }
        },
        "369f036762d3495e8e60e6b949934bc9": {
          "model_module": "@jupyter-widgets/controls",
          "model_name": "ProgressStyleModel",
          "model_module_version": "1.5.0",
          "state": {
            "_model_module": "@jupyter-widgets/controls",
            "_model_module_version": "1.5.0",
            "_model_name": "ProgressStyleModel",
            "_view_count": null,
            "_view_module": "@jupyter-widgets/base",
            "_view_module_version": "1.2.0",
            "_view_name": "StyleView",
            "bar_color": null,
            "description_width": ""
          }
        },
        "629a94a302324a26b587285ea5a774f2": {
          "model_module": "@jupyter-widgets/base",
          "model_name": "LayoutModel",
          "model_module_version": "1.2.0",
          "state": {
            "_model_module": "@jupyter-widgets/base",
            "_model_module_version": "1.2.0",
            "_model_name": "LayoutModel",
            "_view_count": null,
            "_view_module": "@jupyter-widgets/base",
            "_view_module_version": "1.2.0",
            "_view_name": "LayoutView",
            "align_content": null,
            "align_items": null,
            "align_self": null,
            "border": null,
            "bottom": null,
            "display": null,
            "flex": null,
            "flex_flow": null,
            "grid_area": null,
            "grid_auto_columns": null,
            "grid_auto_flow": null,
            "grid_auto_rows": null,
            "grid_column": null,
            "grid_gap": null,
            "grid_row": null,
            "grid_template_areas": null,
            "grid_template_columns": null,
            "grid_template_rows": null,
            "height": null,
            "justify_content": null,
            "justify_items": null,
            "left": null,
            "margin": null,
            "max_height": null,
            "max_width": null,
            "min_height": null,
            "min_width": null,
            "object_fit": null,
            "object_position": null,
            "order": null,
            "overflow": null,
            "overflow_x": null,
            "overflow_y": null,
            "padding": null,
            "right": null,
            "top": null,
            "visibility": null,
            "width": null
          }
        },
        "9cc5c45f05734fe3bd47478d5112e9be": {
          "model_module": "@jupyter-widgets/controls",
          "model_name": "DescriptionStyleModel",
          "model_module_version": "1.5.0",
          "state": {
            "_model_module": "@jupyter-widgets/controls",
            "_model_module_version": "1.5.0",
            "_model_name": "DescriptionStyleModel",
            "_view_count": null,
            "_view_module": "@jupyter-widgets/base",
            "_view_module_version": "1.2.0",
            "_view_name": "StyleView",
            "description_width": ""
          }
        }
      }
    }
  },
  "cells": [
    {
      "cell_type": "code",
      "execution_count": null,
      "metadata": {
        "colab": {
          "base_uri": "https://localhost:8080/"
        },
        "id": "1zIMuEktT-O-",
        "outputId": "0ad73d26-22d7-43c5-967e-311235a295a6"
      },
      "outputs": [
        {
          "output_type": "stream",
          "name": "stdout",
          "text": [
            "/content\n"
          ]
        }
      ],
      "source": [
        "import os\n",
        "HOME = os.getcwd()\n",
        "print(HOME)\n"
      ]
    },
    {
      "cell_type": "markdown",
      "source": [
        "CP2- Visão Computacional\n",
        "\n",
        "1- Quanto tempo a bola ficou de posse dos jogadores?\n",
        "\n",
        "2- Qual jogador ficou mais tempo com a bola?\n",
        "\n",
        "3- Faça um gráfico simulando a trajatória da bola\n",
        "\n",
        "**Data de Entrega: 06/05/2024**"
      ],
      "metadata": {
        "id": "F2JzSuzCh0dI"
      }
    },
    {
      "cell_type": "code",
      "source": [
        "%cd {HOME}\n",
        "!git clone https://github.com/ultralytics/yolov5\n",
        "%cd yolov5\n",
        "%pip install -r requirements.txt\n",
        "import torch\n",
        "import utils\n",
        "\n",
        "display = utils.notebook_init()"
      ],
      "metadata": {
        "colab": {
          "base_uri": "https://localhost:8080/"
        },
        "id": "5cfYm0roUMnw",
        "outputId": "8fc7905a-3cbe-467d-c75e-e585f4f2e901"
      },
      "execution_count": null,
      "outputs": [
        {
          "output_type": "stream",
          "name": "stderr",
          "text": [
            "YOLOv5 🚀 v7.0-304-g22361691 Python-3.10.12 torch-2.2.1+cu121 CUDA:0 (Tesla T4, 15102MiB)\n"
          ]
        },
        {
          "output_type": "stream",
          "name": "stdout",
          "text": [
            "Setup complete ✅ (2 CPUs, 12.7 GB RAM, 29.6/78.2 GB disk)\n"
          ]
        }
      ]
    },
    {
      "cell_type": "code",
      "source": [
        "%cd {HOME}\n",
        "!curl 'https://drive.usercontent.google.com/download?id=1OYwrlRti4cieuvVr8ERaJhTQdFJXWT4I&export=download&confirm=t&uuid=f96e2920-f6ae-4df8-824a-5d074ed6771b&at=APZUnTX7bVRCiyoKoOprJtxtLhP6%3A1713932430806' \\\n",
        "  -H 'accept: text/html,application/xhtml+xml,application/xml;q=0.9,image/avif,image/webp,image/apng,*/*;q=0.8,application/signed-exchange;v=b3;q=0.7' \\\n",
        "  -H 'accept-language: pt-BR,pt;q=0.9,en-US;q=0.8,en;q=0.7' \\\n",
        "  -H 'cookie: HSID=A8PBQYtbdcX19-LvC; SSID=Ab_7gOacd62TksF-G; APISID=0biMeZgBvDGqk1om/AlvckEcV4Z7803B_H; SAPISID=UoJugZamt_iXu17X/AYXjzxTeosURuKK1Q; __Secure-1PAPISID=UoJugZamt_iXu17X/AYXjzxTeosURuKK1Q; __Secure-3PAPISID=UoJugZamt_iXu17X/AYXjzxTeosURuKK1Q; S=billing-ui-v3=gpfs1umGOKKJg68IjjJjOBz5CXVVbi8i:billing-ui-v3-efe=gpfs1umGOKKJg68IjjJjOBz5CXVVbi8i; SID=g.a000iwj1p_o_0lCjMboSLcuZGhcAZRNocE4e3El6I2O2Wqz0xiTGBHEGTqdoW1gKApzIH_o_uAACgYKAQUSAQASFQHGX2MikbHh9nnKAgM9YcimX7S11hoVAUF8yKpY4bZ9odZZFdIpo-bOnYpr0076; __Secure-1PSID=g.a000iwj1p_o_0lCjMboSLcuZGhcAZRNocE4e3El6I2O2Wqz0xiTGnrxaCKlKtsk9g2CGPUqj-AACgYKAfUSAQASFQHGX2MijgkUQ_oEGOKSrn5gZxfmUhoVAUF8yKqsMy5v3rf1gqS4wy97kp4L0076; __Secure-3PSID=g.a000iwj1p_o_0lCjMboSLcuZGhcAZRNocE4e3El6I2O2Wqz0xiTGQuu9f_mAC_lzB-9JoNxoHAACgYKAVUSAQASFQHGX2MiWbOixSo0EKZuKWJDNNzYixoVAUF8yKocVz4SMNGdiNu25WuYTwB_0076; AEC=AQTF6HyfMyUHhBnwouPaPXtqToHlNMUHmCosuW1o3mWoIxUonPWILvHwpSs; NID=513=Yfd1cANsKKanOv0MIO1ZoYK7iEo-jP2O20OIgRlk542cLDidi8X2mkPA7n-LhngecABlEJkIFhRdu9caQQ_jeGe3X8MrFPqZogfZvKfaIcsRt2mWdP0UL53dhq-sLAbjncziAm--BI4VuwbwQYQuuaJpQ5-xaYNQ0rW9VgBEOx0pg38yRBL-KHgNxKDZxBuPI47zIjQM21BquTsivXvnS1sjAXPsaDVJVySpfF2ObcpG7o3A9tV7t71RuaOg2gxseMeccqCRbVQTD0cBHPiWgagD0T0WPvAkM88erpjAfDuM_eWPAXiQRYKxPZiqZHJxwK0LTctmbgtIr8LWAHinOl5yoSuEkKoA8gNEVwkpc_SNcA; __Secure-1PSIDTS=sidts-CjIBLwcBXAdi3cFDgw-gsPfZvajUUhBxQSVbjyeAVS_dXm21KXZcgMJTqnD9ALW-lQjf1BAA; __Secure-3PSIDTS=sidts-CjIBLwcBXAdi3cFDgw-gsPfZvajUUhBxQSVbjyeAVS_dXm21KXZcgMJTqnD9ALW-lQjf1BAA; 1P_JAR=2024-04-24-04; SIDCC=AKEyXzWUsRsnkjz-9VQzekZZxu9-qBboduLc09sPZ-KjbKRZNrTZZAzKtU0R6XMEJ-8UAO9l95BN; __Secure-1PSIDCC=AKEyXzVTybPjoaYYP-Q2VynvDHRn-frcV1OH9R7lr7atvbUlsbCvW-wnUAQAh_QuYF8VVMecFi2b; __Secure-3PSIDCC=AKEyXzXm6Ly5y3jRv_GpBaznyYijd17JXaj5A52uDajlQ3vJ-Yol7TVl8_y5YJzP9v6KGBjOB8k' \\\n",
        "  -H 'dnt: 1' \\\n",
        "  -H 'sec-ch-ua: \"Google Chrome\";v=\"123\", \"Not:A-Brand\";v=\"8\", \"Chromium\";v=\"123\"' \\\n",
        "  -H 'sec-ch-ua-arch: \"x86\"' \\\n",
        "  -H 'sec-ch-ua-bitness: \"64\"' \\\n",
        "  -H 'sec-ch-ua-full-version: \"123.0.6312.107\"' \\\n",
        "  -H 'sec-ch-ua-full-version-list: \"Google Chrome\";v=\"123.0.6312.107\", \"Not:A-Brand\";v=\"8.0.0.0\", \"Chromium\";v=\"123.0.6312.107\"' \\\n",
        "  -H 'sec-ch-ua-mobile: ?0' \\\n",
        "  -H 'sec-ch-ua-model: \"\"' \\\n",
        "  -H 'sec-ch-ua-platform: \"Windows\"' \\\n",
        "  -H 'sec-ch-ua-platform-version: \"15.0.0\"' \\\n",
        "  -H 'sec-ch-ua-wow64: ?0' \\\n",
        "  -H 'sec-fetch-dest: document' \\\n",
        "  -H 'sec-fetch-mode: navigate' \\\n",
        "  -H 'sec-fetch-site: cross-site' \\\n",
        "  -H 'sec-fetch-user: ?1' \\\n",
        "  -H 'upgrade-insecure-requests: 1' \\\n",
        "  -H 'user-agent: Mozilla/5.0 (Windows NT 10.0; Win64; x64) AppleWebKit/537.36 (KHTML, like Gecko) Chrome/123.0.0.0 Safari/537.36' \\\n",
        "  -H 'x-client-data: CKq1yQEIj7bJAQiitskBCKmdygEI8tnKAQiVocsBCIWgzQEY9snNARjYhs4B' \\\n",
        "  -o 'best.pt'\n"
      ],
      "metadata": {
        "colab": {
          "base_uri": "https://localhost:8080/"
        },
        "id": "0deWW_-tUWVo",
        "outputId": "244bcc41-2170-4ccd-e96b-6c4b976a98f9"
      },
      "execution_count": null,
      "outputs": [
        {
          "output_type": "stream",
          "name": "stdout",
          "text": [
            "/content\n",
            "  % Total    % Received % Xferd  Average Speed   Time    Time     Time  Current\n",
            "                                 Dload  Upload   Total   Spent    Left  Speed\n",
            "100  268M  100  268M    0     0  79.0M      0  0:00:03  0:00:03 --:--:-- 79.0M\n"
          ]
        }
      ]
    },
    {
      "cell_type": "code",
      "source": [
        "WEIGHTS_PATH = f\"{HOME}/best.pt\""
      ],
      "metadata": {
        "id": "3wnby6jHUi7I"
      },
      "execution_count": null,
      "outputs": []
    },
    {
      "cell_type": "markdown",
      "source": [
        "# Nosso modelo"
      ],
      "metadata": {
        "id": "TEYuoGY5U4Zt"
      }
    },
    {
      "cell_type": "code",
      "source": [
        "!pip install numpy==1.23"
      ],
      "metadata": {
        "colab": {
          "base_uri": "https://localhost:8080/",
          "height": 361
        },
        "id": "VXuiU5xMabdL",
        "outputId": "a041c608-1c9d-43ad-fdef-16775e7259b3"
      },
      "execution_count": null,
      "outputs": [
        {
          "output_type": "stream",
          "name": "stdout",
          "text": [
            "Collecting numpy==1.23\n",
            "  Using cached numpy-1.23.0-cp310-cp310-manylinux_2_17_x86_64.manylinux2014_x86_64.whl (17.0 MB)\n",
            "Installing collected packages: numpy\n",
            "  Attempting uninstall: numpy\n",
            "    Found existing installation: numpy 1.26.4\n",
            "    Uninstalling numpy-1.26.4:\n",
            "      Successfully uninstalled numpy-1.26.4\n",
            "\u001b[31mERROR: pip's dependency resolver does not currently take into account all the packages that are installed. This behaviour is the source of the following dependency conflicts.\n",
            "chex 0.1.86 requires numpy>=1.24.1, but you have numpy 1.23.0 which is incompatible.\n",
            "imageio 2.31.6 requires pillow<10.1.0,>=8.3.2, but you have pillow 10.3.0 which is incompatible.\n",
            "pandas-stubs 2.0.3.230814 requires numpy>=1.25.0; python_version >= \"3.9\", but you have numpy 1.23.0 which is incompatible.\n",
            "tensorflow 2.15.0 requires numpy<2.0.0,>=1.23.5, but you have numpy 1.23.0 which is incompatible.\u001b[0m\u001b[31m\n",
            "\u001b[0mSuccessfully installed numpy-1.23.0\n"
          ]
        },
        {
          "output_type": "display_data",
          "data": {
            "application/vnd.colab-display-data+json": {
              "pip_warning": {
                "packages": [
                  "numpy"
                ]
              },
              "id": "782392aae0b24452ba9beb66e9f684f9"
            }
          },
          "metadata": {}
        }
      ]
    },
    {
      "cell_type": "code",
      "source": [
        "from typing import Generator\n",
        "import matplotlib.pyplot as plt\n",
        "import numpy as np\n",
        "\n",
        "import cv2\n",
        "\n",
        "%matplotlib inline\n",
        "\n",
        "\n",
        "def generate_frames(video_file: str) -> Generator[np.ndarray, None, None]:\n",
        "    video = cv2.VideoCapture(video_file)\n",
        "\n",
        "    while video.isOpened():\n",
        "        success, frame = video.read()\n",
        "\n",
        "        if not success:\n",
        "            break\n",
        "\n",
        "        yield frame\n",
        "\n",
        "    video.release()\n",
        "\n",
        "\n",
        "def plot_image(image: np.ndarray, size: int = 12) -> None:\n",
        "    plt.figure(figsize=(size, size))\n",
        "    plt.imshow(image[...,::-1])\n",
        "    plt.show()"
      ],
      "metadata": {
        "id": "NPJamGCWUvh5"
      },
      "execution_count": null,
      "outputs": []
    },
    {
      "cell_type": "code",
      "source": [
        "#importando os pesos do modelo pre treinado\n",
        "model = torch.hub.load('ultralytics/yolov5', 'custom', WEIGHTS_PATH, device=0)"
      ],
      "metadata": {
        "colab": {
          "base_uri": "https://localhost:8080/"
        },
        "id": "1qOT9weBU86F",
        "outputId": "9b99bb17-faf2-4bab-ae30-d3f9c47e5010"
      },
      "execution_count": null,
      "outputs": [
        {
          "output_type": "stream",
          "name": "stderr",
          "text": [
            "Using cache found in /root/.cache/torch/hub/ultralytics_yolov5_master\n"
          ]
        },
        {
          "output_type": "stream",
          "name": "stdout",
          "text": [
            "\u001b[31m\u001b[1mrequirements:\u001b[0m Ultralytics requirement ['numpy>=1.23.5'] not found, attempting AutoUpdate...\n",
            "Collecting numpy>=1.23.5\n",
            "  Downloading numpy-1.26.4-cp310-cp310-manylinux_2_17_x86_64.manylinux2014_x86_64.whl (18.2 MB)\n",
            "     ━━━━━━━━━━━━━━━━━━━━━━━━━━━━━━━━━━━━━━━━ 18.2/18.2 MB 70.6 MB/s eta 0:00:00\n",
            "Installing collected packages: numpy\n",
            "  Attempting uninstall: numpy\n",
            "    Found existing installation: numpy 1.23.0\n",
            "    Uninstalling numpy-1.23.0:\n",
            "      Successfully uninstalled numpy-1.23.0\n",
            "Successfully installed numpy-1.26.4\n",
            "\n",
            "\u001b[31m\u001b[1mrequirements:\u001b[0m AutoUpdate success ✅ 18.0s, installed 1 package: ['numpy>=1.23.5']\n",
            "\u001b[31m\u001b[1mrequirements:\u001b[0m ⚠️ \u001b[1mRestart runtime or rerun command for updates to take effect\u001b[0m\n",
            "\n"
          ]
        },
        {
          "output_type": "stream",
          "name": "stderr",
          "text": [
            "YOLOv5 🚀 v7.0-304-g22361691 Python-3.10.12 torch-2.2.1+cu121 CUDA:0 (Tesla T4, 15102MiB)\n",
            "\n",
            "Fusing layers... \n",
            "Model summary: 416 layers, 139999708 parameters, 0 gradients, 207.9 GFLOPs\n",
            "Adding AutoShape... \n"
          ]
        }
      ]
    },
    {
      "cell_type": "code",
      "source": [
        "#instalando o byteTrack para fazer o tracking\n",
        "%cd {HOME}\n",
        "!git clone https://github.com/ifzhang/ByteTrack.git\n",
        "!cd ByteTrack && pip3 install -r requirements.txt\n",
        "!cd ByteTrack && python3 setup.py develop\n",
        "!pip install cython_bbox"
      ],
      "metadata": {
        "colab": {
          "base_uri": "https://localhost:8080/"
        },
        "id": "KXiBOeuFVH24",
        "outputId": "5ae658d8-aa3e-4fdd-8c30-26e4eb6ee41d"
      },
      "execution_count": null,
      "outputs": [
        {
          "output_type": "stream",
          "name": "stdout",
          "text": [
            "/content\n",
            "fatal: destination path 'ByteTrack' already exists and is not an empty directory.\n",
            "Requirement already satisfied: numpy in /usr/local/lib/python3.10/dist-packages (from -r requirements.txt (line 2)) (1.26.4)\n",
            "Requirement already satisfied: torch>=1.7 in /usr/local/lib/python3.10/dist-packages (from -r requirements.txt (line 3)) (2.2.1+cu121)\n",
            "Requirement already satisfied: opencv_python in /usr/local/lib/python3.10/dist-packages (from -r requirements.txt (line 4)) (4.8.0.76)\n",
            "Requirement already satisfied: loguru in /usr/local/lib/python3.10/dist-packages (from -r requirements.txt (line 5)) (0.7.2)\n",
            "Requirement already satisfied: scikit-image in /usr/local/lib/python3.10/dist-packages (from -r requirements.txt (line 6)) (0.19.3)\n",
            "Requirement already satisfied: tqdm in /usr/local/lib/python3.10/dist-packages (from -r requirements.txt (line 7)) (4.66.2)\n",
            "Requirement already satisfied: torchvision>=0.10.0 in /usr/local/lib/python3.10/dist-packages (from -r requirements.txt (line 8)) (0.17.1+cu121)\n",
            "Requirement already satisfied: Pillow in /usr/local/lib/python3.10/dist-packages (from -r requirements.txt (line 9)) (10.3.0)\n",
            "Requirement already satisfied: thop in /usr/local/lib/python3.10/dist-packages (from -r requirements.txt (line 10)) (0.1.1.post2209072238)\n",
            "Collecting ninja (from -r requirements.txt (line 11))\n",
            "  Using cached ninja-1.11.1.1-py2.py3-none-manylinux1_x86_64.manylinux_2_5_x86_64.whl (307 kB)\n",
            "Requirement already satisfied: tabulate in /usr/local/lib/python3.10/dist-packages (from -r requirements.txt (line 12)) (0.9.0)\n",
            "Requirement already satisfied: tensorboard in /usr/local/lib/python3.10/dist-packages (from -r requirements.txt (line 13)) (2.15.2)\n",
            "Requirement already satisfied: lap in /usr/local/lib/python3.10/dist-packages (from -r requirements.txt (line 14)) (0.4.0)\n",
            "Collecting motmetrics (from -r requirements.txt (line 15))\n",
            "  Using cached motmetrics-1.4.0-py3-none-any.whl (161 kB)\n",
            "Collecting filterpy (from -r requirements.txt (line 16))\n",
            "  Using cached filterpy-1.4.5.zip (177 kB)\n",
            "  Preparing metadata (setup.py) ... \u001b[?25l\u001b[?25hdone\n",
            "Requirement already satisfied: h5py in /usr/local/lib/python3.10/dist-packages (from -r requirements.txt (line 17)) (3.9.0)\n",
            "Collecting onnx==1.8.1 (from -r requirements.txt (line 20))\n",
            "  Using cached onnx-1.8.1.tar.gz (5.2 MB)\n",
            "  Installing build dependencies ... \u001b[?25l\u001b[?25hdone\n",
            "  Getting requirements to build wheel ... \u001b[?25l\u001b[?25hdone\n",
            "  Installing backend dependencies ... \u001b[?25l\u001b[?25hdone\n",
            "  Preparing metadata (pyproject.toml) ... \u001b[?25l\u001b[?25hdone\n",
            "\u001b[31mERROR: Could not find a version that satisfies the requirement onnxruntime==1.8.0 (from versions: 1.12.0, 1.12.1, 1.13.1, 1.14.0, 1.14.1, 1.15.0, 1.15.1, 1.16.0, 1.16.1, 1.16.2, 1.16.3, 1.17.0, 1.17.1, 1.17.3)\u001b[0m\u001b[31m\n",
            "\u001b[0m\u001b[31mERROR: No matching distribution found for onnxruntime==1.8.0\u001b[0m\u001b[31m\n",
            "\u001b[0mrunning develop\n",
            "/usr/local/lib/python3.10/dist-packages/setuptools/command/develop.py:40: EasyInstallDeprecationWarning: easy_install command is deprecated.\n",
            "!!\n",
            "\n",
            "        ********************************************************************************\n",
            "        Please avoid running ``setup.py`` and ``easy_install``.\n",
            "        Instead, use pypa/build, pypa/installer, pypa/build or\n",
            "        other standards-based tools.\n",
            "\n",
            "        See https://github.com/pypa/setuptools/issues/917 for details.\n",
            "        ********************************************************************************\n",
            "\n",
            "!!\n",
            "  easy_install.initialize_options(self)\n",
            "/usr/local/lib/python3.10/dist-packages/setuptools/_distutils/cmd.py:66: SetuptoolsDeprecationWarning: setup.py install is deprecated.\n",
            "!!\n",
            "\n",
            "        ********************************************************************************\n",
            "        Please avoid running ``setup.py`` directly.\n",
            "        Instead, use pypa/build, pypa/installer, pypa/build or\n",
            "        other standards-based tools.\n",
            "\n",
            "        See https://blog.ganssle.io/articles/2021/10/setup-py-deprecated.html for details.\n",
            "        ********************************************************************************\n",
            "\n",
            "!!\n",
            "  self.initialize_options()\n",
            "running egg_info\n",
            "writing yolox.egg-info/PKG-INFO\n",
            "writing dependency_links to yolox.egg-info/dependency_links.txt\n",
            "writing top-level names to yolox.egg-info/top_level.txt\n",
            "/usr/local/lib/python3.10/dist-packages/torch/utils/cpp_extension.py:500: UserWarning: Attempted to use ninja as the BuildExtension backend but we could not find ninja.. Falling back to using the slow distutils backend.\n",
            "  warnings.warn(msg.format('we could not find ninja.'))\n",
            "reading manifest file 'yolox.egg-info/SOURCES.txt'\n",
            "adding license file 'LICENSE'\n",
            "writing manifest file 'yolox.egg-info/SOURCES.txt'\n",
            "running build_ext\n",
            "Creating /usr/local/lib/python3.10/dist-packages/yolox.egg-link (link to .)\n",
            "yolox 0.1.0 is already the active version in easy-install.pth\n",
            "\n",
            "Installed /content/ByteTrack\n",
            "Processing dependencies for yolox==0.1.0\n",
            "Finished processing dependencies for yolox==0.1.0\n",
            "Requirement already satisfied: cython_bbox in /usr/local/lib/python3.10/dist-packages (0.1.5)\n",
            "Requirement already satisfied: Cython in /usr/local/lib/python3.10/dist-packages (from cython_bbox) (3.0.10)\n",
            "Requirement already satisfied: numpy in /usr/local/lib/python3.10/dist-packages (from cython_bbox) (1.26.4)\n"
          ]
        }
      ]
    },
    {
      "cell_type": "code",
      "source": [
        "import sys\n",
        "sys.path.append(f\"{HOME}/ByteTrack\")"
      ],
      "metadata": {
        "id": "65azYLN_Wka7"
      },
      "execution_count": null,
      "outputs": []
    },
    {
      "cell_type": "code",
      "source": [
        "!pip install onemetric --quiet"
      ],
      "metadata": {
        "id": "JUkV8KfeW1l0"
      },
      "execution_count": null,
      "outputs": []
    },
    {
      "cell_type": "code",
      "source": [
        "!pip install loguru lap"
      ],
      "metadata": {
        "id": "S_-p7ETaX_aN",
        "colab": {
          "base_uri": "https://localhost:8080/"
        },
        "outputId": "8f4aff82-9ef0-470c-8c55-0ac8aeaa62e6"
      },
      "execution_count": null,
      "outputs": [
        {
          "output_type": "stream",
          "name": "stdout",
          "text": [
            "Requirement already satisfied: loguru in /usr/local/lib/python3.10/dist-packages (0.7.2)\n",
            "Requirement already satisfied: lap in /usr/local/lib/python3.10/dist-packages (0.4.0)\n"
          ]
        }
      ]
    },
    {
      "cell_type": "code",
      "source": [
        "from dataclasses import dataclass\n",
        "\n",
        "\n",
        "@dataclass(frozen=True)\n",
        "class BYTETrackerArgs:\n",
        "    track_thresh: float = 0.25\n",
        "    track_buffer: int = 30\n",
        "    match_thresh: float = 0.8\n",
        "    aspect_ratio_thresh: float = 3.0\n",
        "    min_box_area: float = 1.0\n",
        "    mot20: bool = False"
      ],
      "metadata": {
        "id": "np3QYn2KW32U"
      },
      "execution_count": null,
      "outputs": []
    },
    {
      "cell_type": "code",
      "source": [
        "from yolox.tracker.byte_tracker import BYTETracker, STrack\n",
        "from onemetric.cv.utils.iou import box_iou_batch"
      ],
      "metadata": {
        "id": "Jwp00FiPW6PE"
      },
      "execution_count": null,
      "outputs": []
    },
    {
      "cell_type": "markdown",
      "source": [
        "# Funções auxiliares"
      ],
      "metadata": {
        "id": "l6g7S-tVYFo_"
      }
    },
    {
      "cell_type": "code",
      "source": [
        "from __future__ import annotations\n",
        "from dataclasses import dataclass, field\n",
        "from typing import Tuple, Optional, List, Dict, Any\n",
        "\n",
        "import cv2\n",
        "\n",
        "import numpy as np\n",
        "\n",
        "\n",
        "# geometry utilities\n",
        "\n",
        "\n",
        "@dataclass(frozen=True)\n",
        "class Point:\n",
        "    x: float\n",
        "    y: float\n",
        "\n",
        "    @property\n",
        "    def int_xy_tuple(self) -> Tuple[int, int]:\n",
        "        return int(self.x), int(self.y)\n",
        "\n",
        "\n",
        "@dataclass(frozen=True)\n",
        "class Rect:\n",
        "    x: float\n",
        "    y: float\n",
        "    width: float\n",
        "    height: float\n",
        "\n",
        "    @property\n",
        "    def min_x(self) -> float:\n",
        "        return self.x\n",
        "\n",
        "    @property\n",
        "    def min_y(self) -> float:\n",
        "        return self.y\n",
        "\n",
        "    @property\n",
        "    def max_x(self) -> float:\n",
        "        return self.x + self.width\n",
        "\n",
        "    @property\n",
        "    def max_y(self) -> float:\n",
        "        return self.y + self.height\n",
        "\n",
        "    @property\n",
        "    def top_left(self) -> Point:\n",
        "        return Point(x=self.x, y=self.y)\n",
        "\n",
        "    @property\n",
        "    def bottom_right(self) -> Point:\n",
        "        return Point(x=self.x + self.width, y=self.y + self.height)\n",
        "\n",
        "    @property\n",
        "    def bottom_center(self) -> Point:\n",
        "        return Point(x=self.x + self.width / 2, y=self.y + self.height)\n",
        "\n",
        "    @property\n",
        "    def top_center(self) -> Point:\n",
        "        return Point(x=self.x + self.width / 2, y=self.y)\n",
        "\n",
        "    @property\n",
        "    def center(self) -> Point:\n",
        "        return Point(x=self.x + self.width / 2, y=self.y + self.height / 2)\n",
        "\n",
        "    def pad(self, padding: float) -> Rect:\n",
        "        return Rect(\n",
        "            x=self.x - padding,\n",
        "            y=self.y - padding,\n",
        "            width=self.width + 2*padding,\n",
        "            height=self.height + 2*padding\n",
        "        )\n",
        "\n",
        "    def contains_point(self, point: Point) -> bool:\n",
        "        return self.min_x < point.x < self.max_x and self.min_y < point.y < self.max_y\n",
        "\n",
        "\n",
        "# detection utilities\n",
        "\n",
        "\n",
        "@dataclass\n",
        "class Detection:\n",
        "    rect: Rect\n",
        "    class_id: int\n",
        "    class_name: str\n",
        "    confidence: float\n",
        "    tracker_id: Optional[int] = None\n",
        "\n",
        "    @classmethod\n",
        "    def from_results(cls, pred: np.ndarray, names: Dict[int, str]) -> List[Detection]:\n",
        "        result = []\n",
        "        for x_min, y_min, x_max, y_max, confidence, class_id in pred:\n",
        "            class_id=int(class_id)\n",
        "            result.append(Detection(\n",
        "                rect=Rect(\n",
        "                    x=float(x_min),\n",
        "                    y=float(y_min),\n",
        "                    width=float(x_max - x_min),\n",
        "                    height=float(y_max - y_min)\n",
        "                ),\n",
        "                class_id=class_id,\n",
        "                class_name=names[class_id],\n",
        "                confidence=float(confidence)\n",
        "            ))\n",
        "        return result\n",
        "\n",
        "\n",
        "def filter_detections_by_class(detections: List[Detection], class_name: str) -> List[Detection]:\n",
        "    return [\n",
        "        detection\n",
        "        for detection\n",
        "        in detections\n",
        "        if detection.class_name == class_name\n",
        "    ]\n",
        "\n",
        "\n",
        "# draw utilities\n",
        "\n",
        "\n",
        "@dataclass(frozen=True)\n",
        "class Color:\n",
        "    r: int\n",
        "    g: int\n",
        "    b: int\n",
        "\n",
        "    @property\n",
        "    def bgr_tuple(self) -> Tuple[int, int, int]:\n",
        "        return self.b, self.g, self.r\n",
        "\n",
        "    @classmethod\n",
        "    def from_hex_string(cls, hex_string: str) -> Color:\n",
        "        r, g, b = tuple(int(hex_string[1 + i:1 + i + 2], 16) for i in (0, 2, 4))\n",
        "        return Color(r=r, g=g, b=b)\n",
        "\n",
        "\n",
        "def draw_rect(image: np.ndarray, rect: Rect, color: Color, thickness: int = 2) -> np.ndarray:\n",
        "    cv2.rectangle(image, rect.top_left.int_xy_tuple, rect.bottom_right.int_xy_tuple, color.bgr_tuple, thickness)\n",
        "    return image\n",
        "\n",
        "\n",
        "def draw_filled_rect(image: np.ndarray, rect: Rect, color: Color) -> np.ndarray:\n",
        "    cv2.rectangle(image, rect.top_left.int_xy_tuple, rect.bottom_right.int_xy_tuple, color.bgr_tuple, -1)\n",
        "    return image\n",
        "\n",
        "\n",
        "def draw_polygon(image: np.ndarray, countour: np.ndarray, color: Color, thickness: int = 2) -> np.ndarray:\n",
        "    cv2.drawContours(image, [countour], 0, color.bgr_tuple, thickness)\n",
        "    return image\n",
        "\n",
        "\n",
        "def draw_filled_polygon(image: np.ndarray, countour: np.ndarray, color: Color) -> np.ndarray:\n",
        "    cv2.drawContours(image, [countour], 0, color.bgr_tuple, -1)\n",
        "    return image\n",
        "\n",
        "\n",
        "def draw_text(image: np.ndarray, anchor: Point, text: str, color: Color, thickness: int = 2) -> np.ndarray:\n",
        "    cv2.putText(image, text, anchor.int_xy_tuple, cv2.FONT_HERSHEY_SIMPLEX, 0.7, color.bgr_tuple, thickness, 2, False)\n",
        "    return image\n",
        "\n",
        "\n",
        "def draw_ellipse(image: np.ndarray, rect: Rect, color: Color, thickness: int = 2) -> np.ndarray:\n",
        "    cv2.ellipse(\n",
        "        image,\n",
        "        center=rect.bottom_center.int_xy_tuple,\n",
        "        axes=(int(rect.width), int(0.35 * rect.width)),\n",
        "        angle=0.0,\n",
        "        startAngle=-45,\n",
        "        endAngle=235,\n",
        "        color=color.bgr_tuple,\n",
        "        thickness=thickness,\n",
        "        lineType=cv2.LINE_4\n",
        "    )\n",
        "    return image\n",
        "\n",
        "\n",
        "# base annotator\n",
        "\n",
        "\n",
        "@dataclass\n",
        "class BaseAnnotator:\n",
        "    colors: List[Color]\n",
        "    thickness: int\n",
        "\n",
        "    def annotate(self, image: np.ndarray, detections: List[Detection]) -> np.ndarray:\n",
        "        annotated_image = image.copy()\n",
        "        for detection in detections:\n",
        "            annotated_image = draw_ellipse(\n",
        "                image=image,\n",
        "                rect=detection.rect,\n",
        "                color=self.colors[detection.class_id],\n",
        "                thickness=self.thickness\n",
        "            )\n",
        "        return annotated_image\n",
        "\n",
        "\n",
        "\n",
        "# white\n",
        "BALL_COLOR_HEX = \"#FFFFFF\"\n",
        "BALL_COLOR = Color.from_hex_string(BALL_COLOR_HEX)\n",
        "\n",
        "# red\n",
        "GOALKEEPER_COLOR_HEX = \"#850101\"\n",
        "GOALKEEPER_COLOR = Color.from_hex_string(GOALKEEPER_COLOR_HEX)\n",
        "\n",
        "# green\n",
        "PLAYER_COLOR_HEX = \"#00D4BB\"\n",
        "PLAYER_COLOR = Color.from_hex_string(PLAYER_COLOR_HEX)\n",
        "\n",
        "# yellow\n",
        "REFEREE_COLOR_HEX = \"#FFFF00\"\n",
        "REFEREE_COLOR = Color.from_hex_string(REFEREE_COLOR_HEX)\n",
        "\n",
        "COLORS = [\n",
        "    BALL_COLOR,\n",
        "    GOALKEEPER_COLOR,\n",
        "    PLAYER_COLOR,\n",
        "    REFEREE_COLOR\n",
        "]\n",
        "THICKNESS = 4\n",
        "# black\n",
        "MARKER_CONTOUR_COLOR_HEX = \"000000\"\n",
        "MARKER_CONTOUR_COLOR = Color.from_hex_string(MARKER_CONTOUR_COLOR_HEX)\n",
        "\n",
        "# red\n",
        "PLAYER_MARKER_FILL_COLOR_HEX = \"FF0000\"\n",
        "PLAYER_MARKER_FILL_COLOR = Color.from_hex_string(PLAYER_MARKER_FILL_COLOR_HEX)\n",
        "\n",
        "# green\n",
        "BALL_MERKER_FILL_COLOR_HEX = \"00FF00\"\n",
        "BALL_MARKER_FILL_COLOR = Color.from_hex_string(BALL_MERKER_FILL_COLOR_HEX)\n",
        "\n",
        "MARKER_CONTOUR_THICKNESS = 2\n",
        "MARKER_WIDTH = 20\n",
        "MARKER_HEIGHT = 20\n",
        "MARKER_MARGIN = 10\n",
        "\n",
        "# distance in pixels from the player's bounding box where we consider the ball is in his possession\n",
        "PLAYER_IN_POSSESSION_PROXIMITY = 30\n",
        "\n",
        "from typing import List\n",
        "\n",
        "import numpy as np\n",
        "\n",
        "\"\"\"\n",
        "BYTETracker does not assign tracker_id to existing bounding boxes but rather\n",
        "predicts the next bounding box position based on previous one. Therefore, we\n",
        "need to find a way to match our bounding boxes with predictions.\n",
        "\n",
        "usage example:\n",
        "\n",
        "byte_tracker = BYTETracker(BYTETrackerArgs())\n",
        "for frame in frames:\n",
        "    ...\n",
        "    results = model(frame, size=1280)\n",
        "    detections = Detection.from_results(\n",
        "        pred=results.pred[0].cpu().numpy(),\n",
        "        names=model.names)\n",
        "    ...\n",
        "    tracks = byte_tracker.update(\n",
        "        output_results=detections2boxes(detections=detections),\n",
        "        img_info=frame.shape,\n",
        "        img_size=frame.shape)\n",
        "    detections = match_detections_with_tracks(detections=detections, tracks=tracks)\n",
        "\"\"\"\n",
        "\n",
        "# converts List[Detection] into format that can be consumed by match_detections_with_tracks function\n",
        "def detections2boxes(detections: List[Detection], with_confidence: bool = True) -> np.ndarray:\n",
        "    return np.array([\n",
        "        [\n",
        "            detection.rect.top_left.x,\n",
        "            detection.rect.top_left.y,\n",
        "            detection.rect.bottom_right.x,\n",
        "            detection.rect.bottom_right.y,\n",
        "            detection.confidence\n",
        "        ] if with_confidence else [\n",
        "            detection.rect.top_left.x,\n",
        "            detection.rect.top_left.y,\n",
        "            detection.rect.bottom_right.x,\n",
        "            detection.rect.bottom_right.y\n",
        "        ]\n",
        "        for detection\n",
        "        in detections\n",
        "    ], dtype=float)\n",
        "\n",
        "\n",
        "# converts List[STrack] into format that can be consumed by match_detections_with_tracks function\n",
        "def tracks2boxes(tracks: List[STrack]) -> np.ndarray:\n",
        "    return np.array([\n",
        "        track.tlbr\n",
        "        for track\n",
        "        in tracks\n",
        "    ], dtype=float)\n",
        "\n",
        "\n",
        "# matches our bounding boxes with predictions\n",
        "def match_detections_with_tracks(\n",
        "    detections: List[Detection],\n",
        "    tracks: List[STrack]\n",
        ") -> List[Detection]:\n",
        "    detection_boxes = detections2boxes(detections=detections, with_confidence=False)\n",
        "    tracks_boxes = tracks2boxes(tracks=tracks)\n",
        "    iou = box_iou_batch(tracks_boxes, detection_boxes)\n",
        "    track2detection = np.argmax(iou, axis=1)\n",
        "\n",
        "    for tracker_index, detection_index in enumerate(track2detection):\n",
        "        if iou[tracker_index, detection_index] != 0:\n",
        "            detections[detection_index].tracker_id = tracks[tracker_index].track_id\n",
        "    return detections\n",
        "\n",
        "\n",
        "from dataclasses import dataclass\n",
        "import cv2\n",
        "\n",
        "\n",
        "\"\"\"\n",
        "usage example:\n",
        "\n",
        "video_config = VideoConfig(\n",
        "    fps=30,\n",
        "    width=1920,\n",
        "    height=1080)\n",
        "video_writer = get_video_writer(\n",
        "    target_video_path=TARGET_VIDEO_PATH,\n",
        "    video_config=video_config)\n",
        "\n",
        "for frame in frames:\n",
        "    ...\n",
        "    video_writer.write(frame)\n",
        "\n",
        "video_writer.release()\n",
        "\"\"\"\n",
        "\n",
        "\n",
        "# stores information about output video file, width and height of the frame must be equal to input video\n",
        "@dataclass(frozen=True)\n",
        "class VideoConfig:\n",
        "    fps: float\n",
        "    width: int\n",
        "    height: int\n",
        "\n",
        "\n",
        "# create cv2.VideoWriter object that we can use to save output video\n",
        "def get_video_writer(target_video_path: str, video_config: VideoConfig) -> cv2.VideoWriter:\n",
        "    video_target_dir = os.path.dirname(os.path.abspath(target_video_path))\n",
        "    os.makedirs(video_target_dir, exist_ok=True)\n",
        "    return cv2.VideoWriter(\n",
        "        target_video_path,\n",
        "        fourcc=cv2.VideoWriter_fourcc(*\"mp4v\"),\n",
        "        fps=video_config.fps,\n",
        "        frameSize=(video_config.width, video_config.height),\n",
        "        isColor=True\n",
        "    )\n",
        "\n",
        "\n",
        "from typing import List, Optional\n",
        "\n",
        "\n",
        "# resolves which player is currently in ball possession based on player-ball proximity\n",
        "def get_player_in_possession(\n",
        "    player_detections: List[Detection],\n",
        "    ball_detections: List[Detection],\n",
        "    proximity: int\n",
        ") -> Optional[Detection]:\n",
        "    if len(ball_detections) != 1:\n",
        "        return None\n",
        "    ball_detection = ball_detections[0]\n",
        "    for player_detection in player_detections:\n",
        "        if player_detection.rect.pad(proximity).contains_point(point=ball_detection.rect.center):\n",
        "            return player_detection\n",
        "\n",
        "\n",
        "from typing import List\n",
        "\n",
        "import numpy as np\n",
        "\n",
        "\n",
        "# calculates coordinates of possession marker\n",
        "def calculate_marker(anchor: Point) -> np.ndarray:\n",
        "    x, y = anchor.int_xy_tuple\n",
        "    return(np.array([\n",
        "        [x - MARKER_WIDTH // 2, y - MARKER_HEIGHT - MARKER_MARGIN],\n",
        "        [x, y - MARKER_MARGIN],\n",
        "        [x + MARKER_WIDTH // 2, y - MARKER_HEIGHT - MARKER_MARGIN]\n",
        "    ]))\n",
        "\n",
        "\n",
        "# draw single possession marker\n",
        "def draw_marker(image: np.ndarray, anchor: Point, color: Color) -> np.ndarray:\n",
        "    possession_marker_countour = calculate_marker(anchor=anchor)\n",
        "    image = draw_filled_polygon(\n",
        "        image=image,\n",
        "        countour=possession_marker_countour,\n",
        "        color=color)\n",
        "    image = draw_polygon(\n",
        "        image=image,\n",
        "        countour=possession_marker_countour,\n",
        "        color=MARKER_CONTOUR_COLOR,\n",
        "        thickness=MARKER_CONTOUR_THICKNESS)\n",
        "    return image\n",
        "\n",
        "\n",
        "# dedicated annotator to draw possession markers on video frames\n",
        "@dataclass\n",
        "class MarkerAnntator:\n",
        "\n",
        "    color: Color\n",
        "\n",
        "    def annotate(self, image: np.ndarray, detections: List[Detection]) -> np.ndarray:\n",
        "        annotated_image = image.copy()\n",
        "        for detection in detections:\n",
        "            annotated_image = draw_marker(\n",
        "                image=image,\n",
        "                anchor=detection.rect.top_center,\n",
        "                color=self.color)\n",
        "        return annotated_image\n",
        "\n",
        "# text annotator to display tracker_id\n",
        "@dataclass\n",
        "class TextAnnotator:\n",
        "    background_color: Color\n",
        "    text_color: Color\n",
        "    text_thickness: int\n",
        "\n",
        "    def annotate(self, image: np.ndarray, detections: List[Detection]) -> np.ndarray:\n",
        "        annotated_image = image.copy()\n",
        "        for detection in detections:\n",
        "            # if tracker_id is not assigned skip annotation\n",
        "            if detection.tracker_id is None:\n",
        "                continue\n",
        "\n",
        "            # calculate text dimensions\n",
        "            size, _ = cv2.getTextSize(\n",
        "                str(detection.tracker_id),\n",
        "                cv2.FONT_HERSHEY_SIMPLEX,\n",
        "                0.7,\n",
        "                thickness=self.text_thickness)\n",
        "            width, height = size\n",
        "\n",
        "            # calculate text background position\n",
        "            center_x, center_y = detection.rect.bottom_center.int_xy_tuple\n",
        "            x = center_x - width // 2\n",
        "            y = center_y - height // 2 + 10\n",
        "\n",
        "            # draw background\n",
        "            annotated_image = draw_filled_rect(\n",
        "                image=annotated_image,\n",
        "                rect=Rect(x=x, y=y, width=width, height=height).pad(padding=5),\n",
        "                color=self.background_color)\n",
        "\n",
        "            # draw text\n",
        "            annotated_image = draw_text(\n",
        "                image=annotated_image,\n",
        "                anchor=Point(x=x, y=y + height),\n",
        "                text=str(detection.tracker_id),\n",
        "                color=self.text_color,\n",
        "                thickness=self.text_thickness)\n",
        "        return annotated_image"
      ],
      "metadata": {
        "id": "VvrjIXE5W7Iu"
      },
      "execution_count": null,
      "outputs": []
    },
    {
      "cell_type": "code",
      "source": [
        "SOURCE_VIDEO_PATH = f\"{HOME}/clips/08fd33_0.mp4\"\n",
        "TARGET_VIDEO_PATH = f\"{HOME}/final/08fd33_0.mp4\""
      ],
      "metadata": {
        "id": "PRoe7BKPW7F2"
      },
      "execution_count": null,
      "outputs": []
    },
    {
      "cell_type": "code",
      "source": [
        "from tqdm.notebook import tqdm\n",
        "# initiate annotators\n",
        "ball_marker_annotator = MarkerAnntator(color=BALL_MARKER_FILL_COLOR)\n",
        "player_marker_annotator = MarkerAnntator(color=PLAYER_MARKER_FILL_COLOR)\n",
        "\n",
        "# initiate video writer\n",
        "video_config = VideoConfig(\n",
        "    fps=30,\n",
        "    width=1920,\n",
        "    height=1080)\n",
        "video_writer = get_video_writer(\n",
        "    target_video_path=TARGET_VIDEO_PATH,\n",
        "    video_config=video_config)\n",
        "\n",
        "# get fresh video frame generator\n",
        "frame_iterator = iter(generate_frames(video_file=SOURCE_VIDEO_PATH))\n",
        "\n",
        "# initiate annotators\n",
        "base_annotator = BaseAnnotator(\n",
        "    colors=[\n",
        "        BALL_COLOR,\n",
        "        PLAYER_COLOR,\n",
        "        PLAYER_COLOR,\n",
        "        REFEREE_COLOR\n",
        "    ],\n",
        "    thickness=THICKNESS)\n",
        "\n",
        "player_goalkeeper_text_annotator = TextAnnotator(\n",
        "    PLAYER_COLOR, text_color=Color(255, 255, 255), text_thickness=2)\n",
        "referee_text_annotator = TextAnnotator(\n",
        "    REFEREE_COLOR, text_color=Color(0, 0, 0), text_thickness=2)\n",
        "\n",
        "ball_marker_annotator = MarkerAnntator(\n",
        "    color=BALL_MARKER_FILL_COLOR)\n",
        "player_in_possession_marker_annotator = MarkerAnntator(\n",
        "    color=PLAYER_MARKER_FILL_COLOR)\n",
        "\n",
        "\n",
        "# initiate tracker\n",
        "byte_tracker = BYTETracker(BYTETrackerArgs())\n",
        "\n",
        "players_time_with_ball = dict()\n",
        "\n",
        "# loop over frames\n",
        "for frame in tqdm(frame_iterator, total=750):\n",
        "\n",
        "    # run detector\n",
        "    results = model(frame, size=1280)\n",
        "    detections = Detection.from_results(\n",
        "        pred=results.pred[0].cpu().numpy(),\n",
        "        names=model.names)\n",
        "\n",
        "    # filter detections by class\n",
        "    ball_detections = filter_detections_by_class(detections=detections, class_name=\"ball\")\n",
        "    referee_detections = filter_detections_by_class(detections=detections, class_name=\"referee\")\n",
        "    goalkeeper_detections = filter_detections_by_class(detections=detections, class_name=\"goalkeeper\")\n",
        "    player_detections = filter_detections_by_class(detections=detections, class_name=\"player\")\n",
        "\n",
        "    player_goalkeeper_detections = player_detections + goalkeeper_detections\n",
        "    tracked_detections = player_detections + goalkeeper_detections + referee_detections\n",
        "\n",
        "    # calculate player in possession\n",
        "    player_in_possession_detection = get_player_in_possession(\n",
        "        player_detections=player_goalkeeper_detections,\n",
        "        ball_detections=ball_detections,\n",
        "        proximity=PLAYER_IN_POSSESSION_PROXIMITY)\n",
        "\n",
        "    # track\n",
        "    tracks = byte_tracker.update(\n",
        "        output_results=detections2boxes(detections=tracked_detections),\n",
        "        img_info=frame.shape,\n",
        "        img_size=frame.shape\n",
        "    )\n",
        "    tracked_detections = match_detections_with_tracks(detections=tracked_detections, tracks=tracks)\n",
        "\n",
        "    tracked_referee_detections = filter_detections_by_class(detections=tracked_detections, class_name=\"referee\")\n",
        "    tracked_goalkeeper_detections = filter_detections_by_class(detections=tracked_detections, class_name=\"goalkeeper\")\n",
        "    tracked_player_detections = filter_detections_by_class(detections=tracked_detections, class_name=\"player\")\n",
        "\n",
        "    if(player_in_possession_detection is not None):\n",
        "      if player_in_possession_detection.tracker_id not in players_time_with_ball:\n",
        "        players_time_with_ball[player_in_possession_detection.tracker_id] = 0\n",
        "      else:\n",
        "        players_time_with_ball[player_in_possession_detection.tracker_id] += 1\n",
        "\n",
        "    # annotate video frame\n",
        "    annotated_image = frame.copy()\n",
        "    annotated_image = base_annotator.annotate(\n",
        "        image=annotated_image,\n",
        "        detections=tracked_detections)\n",
        "\n",
        "    annotated_image = player_goalkeeper_text_annotator.annotate(\n",
        "        image=annotated_image,\n",
        "        detections=tracked_goalkeeper_detections + tracked_player_detections)\n",
        "    annotated_image = referee_text_annotator.annotate(\n",
        "        image=annotated_image,\n",
        "        detections=tracked_referee_detections)\n",
        "\n",
        "    annotated_image = ball_marker_annotator.annotate(\n",
        "        image=annotated_image,\n",
        "        detections=ball_detections)\n",
        "    annotated_image = player_marker_annotator.annotate(\n",
        "        image=annotated_image,\n",
        "        detections=[player_in_possession_detection] if player_in_possession_detection else [])\n",
        "\n",
        "    # save video frame\n",
        "    video_writer.write(annotated_image)\n",
        "\n",
        "# close output video\n",
        "video_writer.release()"
      ],
      "metadata": {
        "colab": {
          "base_uri": "https://localhost:8080/",
          "height": 49,
          "referenced_widgets": [
            "987ddbea9b0e4e8ab9b508d45f5c51e9",
            "1653771081124443a22ea6ebda7f1f73",
            "5b5c2d32dfb4494fae1077cbe0f4a588",
            "0b771d9225aa4bb09ddda31b7e833bb0",
            "a565dfda989543ef845f384adb372bb1",
            "561692017a2e45ae8d3e98c239a39702",
            "5efa3cc78b234ecd9322c1c8f3cf2e39",
            "667aaa5fe3834fc290080fa38f0a7d77",
            "369f036762d3495e8e60e6b949934bc9",
            "629a94a302324a26b587285ea5a774f2",
            "9cc5c45f05734fe3bd47478d5112e9be"
          ]
        },
        "id": "yyw5E9_zW7DO",
        "outputId": "21299839-78dd-4798-96f9-abfcb8669a7e"
      },
      "execution_count": null,
      "outputs": [
        {
          "output_type": "display_data",
          "data": {
            "text/plain": [
              "  0%|          | 0/750 [00:00<?, ?it/s]"
            ],
            "application/vnd.jupyter.widget-view+json": {
              "version_major": 2,
              "version_minor": 0,
              "model_id": "987ddbea9b0e4e8ab9b508d45f5c51e9"
            }
          },
          "metadata": {}
        }
      ]
    },
    {
      "cell_type": "code",
      "source": [
        "players_time_with_ball"
      ],
      "metadata": {
        "colab": {
          "base_uri": "https://localhost:8080/"
        },
        "id": "gFI9Cned8hT1",
        "outputId": "857026c5-9f77-4100-ad55-3982f55f129b"
      },
      "execution_count": null,
      "outputs": [
        {
          "output_type": "execute_result",
          "data": {
            "text/plain": [
              "{881: 2,\n",
              " 869: 35,\n",
              " 870: 22,\n",
              " 875: 23,\n",
              " 872: 20,\n",
              " 888: 9,\n",
              " 904: 7,\n",
              " 882: 22,\n",
              " 865: 1,\n",
              " None: 0,\n",
              " 868: 5,\n",
              " 867: 6,\n",
              " 946: 32,\n",
              " 930: 37}"
            ]
          },
          "metadata": {},
          "execution_count": 80
        }
      ]
    },
    {
      "cell_type": "code",
      "source": [
        "# Grafico\n",
        "if None in players_time_with_ball:\n",
        "  del players_time_with_ball[None]\n",
        "\n",
        "values = list(players_time_with_ball.values())\n",
        "keys = list()\n",
        "\n",
        "for value in list(players_time_with_ball.keys()):\n",
        "  keys.append(str(value))\n",
        "\n",
        "print(keys)\n",
        "\n",
        "# metodo para criar o grafico de barras\n",
        "plt.bar(keys, np.array(values)/750*100, color=\"red\")\n",
        "\n",
        "# Labels\n",
        "plt.xlabel(\"Jogadores\")\n",
        "plt.ylabel(\"Tempo com a bola (Porcentagem)\")\n",
        "\n",
        "# Titulo\n",
        "plt.title(\"Tempo de posse de bola dos jogadores\")"
      ],
      "metadata": {
        "colab": {
          "base_uri": "https://localhost:8080/",
          "height": 529
        },
        "id": "ereeUwh2CWbO",
        "outputId": "3d4ce0e9-3b0b-4489-c92a-59c2f5797ed3"
      },
      "execution_count": null,
      "outputs": [
        {
          "output_type": "stream",
          "name": "stdout",
          "text": [
            "['881', '869', '870', '875', '872', '888', '904', '882', '865', '868', '867', '946', '930']\n"
          ]
        },
        {
          "output_type": "execute_result",
          "data": {
            "text/plain": [
              "Text(0.5, 1.0, 'Tempo de posse de bola dos jogadores')"
            ]
          },
          "metadata": {},
          "execution_count": 84
        },
        {
          "output_type": "display_data",
          "data": {
            "text/plain": [
              "<Figure size 640x480 with 1 Axes>"
            ],
            "image/png": "[encoded data removed]"
          },
          "metadata": {}
        }
      ]
    },
    {
      "cell_type": "code",
      "source": [
        "import pandas as pd\n",
        "%matplotlib inline\n",
        "import matplotlib.pyplot as plt\n",
        "pd.DataFrame({\"k\":keys,\"v\":values}).plot(kind=\"bar\")\n"
      ],
      "metadata": {
        "colab": {
          "base_uri": "https://localhost:8080/",
          "height": 1000
        },
        "id": "eVOOULKhK3dO",
        "outputId": "556290eb-b153-4d33-a053-0e8bb0ec8791"
      },
      "execution_count": null,
      "outputs": [
        {
          "output_type": "execute_result",
          "data": {
            "text/plain": [
              "<Axes: >"
            ]
          },
          "metadata": {},
          "execution_count": 70
        },
        {
          "output_type": "display_data",
          "data": {
            "text/plain": [
              "<Figure size 640x480 with 1 Axes>"
            ],
            "image/png": "[encoded data removed]"
          },
          "metadata": {}
        },
        {
          "output_type": "display_data",
          "data": {
            "text/plain": [
              "<Figure size 640x480 with 1 Axes>"
            ],
            "image/png": "[encoded data removed]"
          },
          "metadata": {}
        },
        {
          "output_type": "display_data",
          "data": {
            "text/plain": [
              "<Figure size 640x480 with 1 Axes>"
            ],
            "image/png": "[encoded data removed]"
          },
          "metadata": {}
        },
        {
          "output_type": "display_data",
          "data": {
            "text/plain": [
              "<Figure size 640x480 with 1 Axes>"
            ],
            "image/png": "[encoded data removed]"
          },
          "metadata": {}
        },
        {
          "output_type": "display_data",
          "data": {
            "text/plain": [
              "<Figure size 640x480 with 1 Axes>"
            ],
            "image/png": "[encoded data removed]"
          },
          "metadata": {}
        }
      ]
    },
    {
      "cell_type": "code",
      "source": [],
      "metadata": {
        "id": "3-oX_veGK2lA"
      },
      "execution_count": null,
      "outputs": []
    },
    {
      "cell_type": "code",
      "source": [
        "#se der erro rode aqui e restart o colab.\n",
        "!pip install numpy==1.23"
      ],
      "metadata": {
        "id": "LjYbb4qkW7Ao"
      },
      "execution_count": null,
      "outputs": []
    },
    {
      "cell_type": "code",
      "source": [
        "np2.__version__"
      ],
      "metadata": {
        "id": "MS9MtSixW69-"
      },
      "execution_count": null,
      "outputs": []
    },
    {
      "cell_type": "code",
      "source": [
        "import numpy as np2"
      ],
      "metadata": {
        "id": "6YoRZP_HW61F"
      },
      "execution_count": null,
      "outputs": []
    }
  ]
}